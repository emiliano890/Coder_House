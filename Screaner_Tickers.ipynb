{
 "cells": [
  {
   "cell_type": "code",
   "execution_count": 3,
   "metadata": {},
   "outputs": [
    {
     "name": "stdout",
     "output_type": "stream",
     "text": [
      "[*********************100%***********************]  1 of 1 completed\n"
     ]
    },
    {
     "ename": "TypeError",
     "evalue": "'Screaner_Tickers' object is not subscriptable",
     "output_type": "error",
     "traceback": [
      "\u001b[1;31m---------------------------------------------------------------------------\u001b[0m",
      "\u001b[1;31mTypeError\u001b[0m                                 Traceback (most recent call last)",
      "\u001b[1;32m<ipython-input-3-3fe83fe450a0>\u001b[0m in \u001b[0;36m<module>\u001b[1;34m\u001b[0m\n\u001b[0;32m     37\u001b[0m     \u001b[1;32mfor\u001b[0m \u001b[0mticker\u001b[0m \u001b[1;32min\u001b[0m \u001b[0mtickers\u001b[0m\u001b[1;33m:\u001b[0m\u001b[1;33m\u001b[0m\u001b[1;33m\u001b[0m\u001b[0m\n\u001b[0;32m     38\u001b[0m         \u001b[0mlobt\u001b[0m \u001b[1;33m=\u001b[0m \u001b[0mScreaner_Tickers\u001b[0m\u001b[1;33m(\u001b[0m\u001b[1;34mf'{ticker}'\u001b[0m\u001b[1;33m,\u001b[0m\u001b[1;34m'2021-10-01'\u001b[0m\u001b[1;33m,\u001b[0m\u001b[1;34m'2022-03-10'\u001b[0m\u001b[1;33m,\u001b[0m\u001b[0mverbose\u001b[0m\u001b[1;33m=\u001b[0m\u001b[1;32mFalse\u001b[0m\u001b[1;33m)\u001b[0m\u001b[1;33m\u001b[0m\u001b[1;33m\u001b[0m\u001b[0m\n\u001b[1;32m---> 39\u001b[1;33m         \u001b[0mlobt\u001b[0m\u001b[1;33m[\u001b[0m\u001b[0mticker\u001b[0m\u001b[1;33m]\u001b[0m\u001b[1;33m.\u001b[0m\u001b[0mrun_tsi_strategy\u001b[0m\u001b[1;33m(\u001b[0m\u001b[1;36m25\u001b[0m\u001b[1;33m,\u001b[0m\u001b[1;36m13\u001b[0m\u001b[1;33m,\u001b[0m\u001b[1;36m13\u001b[0m\u001b[1;33m)\u001b[0m\u001b[1;33m\u001b[0m\u001b[1;33m\u001b[0m\u001b[0m\n\u001b[0m",
      "\u001b[1;31mTypeError\u001b[0m: 'Screaner_Tickers' object is not subscriptable"
     ]
    }
   ],
   "source": [
    "from Base_data import *\n",
    "import yfinance as yf\n",
    "\n",
    "class Screaner_Tickers(Base_Data):\n",
    "\n",
    "    def run_tsi_strategy(self, first_smo, second_smo, tsi_smo):\n",
    "        ''' Backtesting a SMA-based strategy.\n",
    "\n",
    "        Parameters\n",
    "        ==========\n",
    "        first_smo, second_smo, tsi_smo: int\n",
    "            \n",
    "        '''\n",
    "        msg = f'\\n\\nRunning TSI STRATEGY | Slow={first_smo} & Fast={second_smo}  & Sign={tsi_smo}'\n",
    "        \n",
    "        #armado de los indicadores de TSI\n",
    "        self.data[\"PC\"] =self.data[\"Close\"].diff()\n",
    "        self.data[\"PCABS\"] = abs(self.data[\"PC\"])\n",
    "        self.data[\"PCABS\"] = abs(self.data[\"PC\"])\n",
    "        self.data['TSI_First_Smo'] =self.data[\"PCABS\"].ewm(span=first_smo).mean()\n",
    "        self.data['TSI_Second_Smo'] =self.data['TSI_First_Smo'].ewm(span=second_smo).mean()\n",
    "        self.data['TSI_First_Smo_PC'] =self.data[\"PC\"].ewm(span=first_smo).mean()\n",
    "        self.data['TSI_Second_Smo_PC'] =self.data['TSI_First_Smo_PC'].ewm(span=second_smo).mean()\n",
    "        #aqui TSI e TSI SmoSMA son los dos indicadores a utilizar \n",
    "        self.data[\"TSI\"] = 100*(self.data['TSI_Second_Smo_PC']/self.data['TSI_Second_Smo']) \n",
    "        self.data[\"TSI_Smo_SMA\"] =self.data[\"TSI\"].ewm(span=tsi_smo).mean()\n",
    "\n",
    "        #se elimina los Nan\n",
    "        self.data = self.data.copy().dropna()\n",
    "        #se pone valor 1 encaso que la señal sea compradora y -1 en caso que sea vendedora\n",
    "        self.data['position'] = np.where(self.data[\"TSI\"] > self.data[\"TSI_Smo_SMA\"], 1, -1)\n",
    "        data = pd.DataFrame(self.data['position'])\n",
    "\n",
    "        #se toma el ultimo dato, para saber si la señal debe ser compradora o vendedora\n",
    "        if self.data['position'].iloc[-1] == 1:\n",
    "            self.place_buy_order\n",
    "        elif self.data['position'].iloc[-1] == -1:\n",
    "            self.place_sell_order\n",
    "\n",
    "\n",
    "\n",
    "        #return print(f'{self.symbol}\\n  {data}')    \n",
    "\n",
    "if __name__ == '__main__':\n",
    "    tickers = ['MELI']\n",
    "    for ticker in tickers:\n",
    "        lobt = Screaner_Tickers(f'{ticker}','2021-10-01','2022-03-10',verbose=False)\n",
    "        lobt.run_tsi_strategy(25,13,13)"
   ]
  }
 ],
 "metadata": {
  "interpreter": {
   "hash": "ca784fbc11ce724e762303f637eb98e92a95b381423291a1d7d032e7c4f5aee0"
  },
  "kernelspec": {
   "display_name": "Python 3.8.5 ('IA')",
   "language": "python",
   "name": "python3"
  },
  "language_info": {
   "codemirror_mode": {
    "name": "ipython",
    "version": 3
   },
   "file_extension": ".py",
   "mimetype": "text/x-python",
   "name": "python",
   "nbconvert_exporter": "python",
   "pygments_lexer": "ipython3",
   "version": "3.8.5"
  },
  "orig_nbformat": 4
 },
 "nbformat": 4,
 "nbformat_minor": 2
}
